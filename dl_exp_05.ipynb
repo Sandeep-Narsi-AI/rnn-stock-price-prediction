{
  "nbformat": 4,
  "nbformat_minor": 0,
  "metadata": {
    "colab": {
      "provenance": []
    },
    "kernelspec": {
      "name": "python3",
      "display_name": "Python 3"
    },
    "language_info": {
      "name": "python"
    }
  },
  "cells": [
    {
      "cell_type": "code",
      "execution_count": 1,
      "metadata": {
        "id": "9Tk_-PeNk75Y"
      },
      "outputs": [],
      "source": [
        "import numpy as np\n",
        "import matplotlib.pyplot as plt\n",
        "import pandas as pd\n",
        "from sklearn.preprocessing import MinMaxScaler\n",
        "from keras import layers\n",
        "from tensorflow.keras import models\n",
        "from keras.models import Sequential\n",
        "from tensorflow.keras import layers"
      ]
    },
    {
      "cell_type": "code",
      "source": [
        "dataset_train = pd.read_csv('trainset.csv')"
      ],
      "metadata": {
        "id": "m4KGRvOTk_zl"
      },
      "execution_count": 2,
      "outputs": []
    },
    {
      "cell_type": "code",
      "source": [
        "dataset_train.columns"
      ],
      "metadata": {
        "colab": {
          "base_uri": "https://localhost:8080/"
        },
        "id": "gSHc8ov8lOQI",
        "outputId": "bded1285-6038-48d8-ccf3-f620d1fc32a9"
      },
      "execution_count": 3,
      "outputs": [
        {
          "output_type": "execute_result",
          "data": {
            "text/plain": [
              "Index(['Date', 'Open', 'High', 'Low', 'Close', 'Adj Close', 'Volume'], dtype='object')"
            ]
          },
          "metadata": {},
          "execution_count": 3
        }
      ]
    },
    {
      "cell_type": "code",
      "source": [
        "dataset_train.head()"
      ],
      "metadata": {
        "colab": {
          "base_uri": "https://localhost:8080/",
          "height": 206
        },
        "id": "lyDb10eplPgx",
        "outputId": "2f7b8b7a-b2ac-4a61-b531-d3813b27ed28"
      },
      "execution_count": 4,
      "outputs": [
        {
          "output_type": "execute_result",
          "data": {
            "text/plain": [
              "         Date        Open        High         Low       Close   Adj Close  \\\n",
              "0  2013-01-02  357.385559  361.151062  355.959839  359.288177  359.288177   \n",
              "1  2013-01-03  360.122742  363.600128  358.031342  359.496826  359.496826   \n",
              "2  2013-01-04  362.313507  368.339294  361.488861  366.600616  366.600616   \n",
              "3  2013-01-07  365.348755  367.301056  362.929504  365.001007  365.001007   \n",
              "4  2013-01-08  365.393463  365.771027  359.874359  364.280701  364.280701   \n",
              "\n",
              "    Volume  \n",
              "0  5115500  \n",
              "1  4666500  \n",
              "2  5562800  \n",
              "3  3332900  \n",
              "4  3373900  "
            ],
            "text/html": [
              "\n",
              "  <div id=\"df-bc37adfc-1c35-4377-af61-7bbd7d53d240\">\n",
              "    <div class=\"colab-df-container\">\n",
              "      <div>\n",
              "<style scoped>\n",
              "    .dataframe tbody tr th:only-of-type {\n",
              "        vertical-align: middle;\n",
              "    }\n",
              "\n",
              "    .dataframe tbody tr th {\n",
              "        vertical-align: top;\n",
              "    }\n",
              "\n",
              "    .dataframe thead th {\n",
              "        text-align: right;\n",
              "    }\n",
              "</style>\n",
              "<table border=\"1\" class=\"dataframe\">\n",
              "  <thead>\n",
              "    <tr style=\"text-align: right;\">\n",
              "      <th></th>\n",
              "      <th>Date</th>\n",
              "      <th>Open</th>\n",
              "      <th>High</th>\n",
              "      <th>Low</th>\n",
              "      <th>Close</th>\n",
              "      <th>Adj Close</th>\n",
              "      <th>Volume</th>\n",
              "    </tr>\n",
              "  </thead>\n",
              "  <tbody>\n",
              "    <tr>\n",
              "      <th>0</th>\n",
              "      <td>2013-01-02</td>\n",
              "      <td>357.385559</td>\n",
              "      <td>361.151062</td>\n",
              "      <td>355.959839</td>\n",
              "      <td>359.288177</td>\n",
              "      <td>359.288177</td>\n",
              "      <td>5115500</td>\n",
              "    </tr>\n",
              "    <tr>\n",
              "      <th>1</th>\n",
              "      <td>2013-01-03</td>\n",
              "      <td>360.122742</td>\n",
              "      <td>363.600128</td>\n",
              "      <td>358.031342</td>\n",
              "      <td>359.496826</td>\n",
              "      <td>359.496826</td>\n",
              "      <td>4666500</td>\n",
              "    </tr>\n",
              "    <tr>\n",
              "      <th>2</th>\n",
              "      <td>2013-01-04</td>\n",
              "      <td>362.313507</td>\n",
              "      <td>368.339294</td>\n",
              "      <td>361.488861</td>\n",
              "      <td>366.600616</td>\n",
              "      <td>366.600616</td>\n",
              "      <td>5562800</td>\n",
              "    </tr>\n",
              "    <tr>\n",
              "      <th>3</th>\n",
              "      <td>2013-01-07</td>\n",
              "      <td>365.348755</td>\n",
              "      <td>367.301056</td>\n",
              "      <td>362.929504</td>\n",
              "      <td>365.001007</td>\n",
              "      <td>365.001007</td>\n",
              "      <td>3332900</td>\n",
              "    </tr>\n",
              "    <tr>\n",
              "      <th>4</th>\n",
              "      <td>2013-01-08</td>\n",
              "      <td>365.393463</td>\n",
              "      <td>365.771027</td>\n",
              "      <td>359.874359</td>\n",
              "      <td>364.280701</td>\n",
              "      <td>364.280701</td>\n",
              "      <td>3373900</td>\n",
              "    </tr>\n",
              "  </tbody>\n",
              "</table>\n",
              "</div>\n",
              "      <button class=\"colab-df-convert\" onclick=\"convertToInteractive('df-bc37adfc-1c35-4377-af61-7bbd7d53d240')\"\n",
              "              title=\"Convert this dataframe to an interactive table.\"\n",
              "              style=\"display:none;\">\n",
              "        \n",
              "  <svg xmlns=\"http://www.w3.org/2000/svg\" height=\"24px\"viewBox=\"0 0 24 24\"\n",
              "       width=\"24px\">\n",
              "    <path d=\"M0 0h24v24H0V0z\" fill=\"none\"/>\n",
              "    <path d=\"M18.56 5.44l.94 2.06.94-2.06 2.06-.94-2.06-.94-.94-2.06-.94 2.06-2.06.94zm-11 1L8.5 8.5l.94-2.06 2.06-.94-2.06-.94L8.5 2.5l-.94 2.06-2.06.94zm10 10l.94 2.06.94-2.06 2.06-.94-2.06-.94-.94-2.06-.94 2.06-2.06.94z\"/><path d=\"M17.41 7.96l-1.37-1.37c-.4-.4-.92-.59-1.43-.59-.52 0-1.04.2-1.43.59L10.3 9.45l-7.72 7.72c-.78.78-.78 2.05 0 2.83L4 21.41c.39.39.9.59 1.41.59.51 0 1.02-.2 1.41-.59l7.78-7.78 2.81-2.81c.8-.78.8-2.07 0-2.86zM5.41 20L4 18.59l7.72-7.72 1.47 1.35L5.41 20z\"/>\n",
              "  </svg>\n",
              "      </button>\n",
              "      \n",
              "  <style>\n",
              "    .colab-df-container {\n",
              "      display:flex;\n",
              "      flex-wrap:wrap;\n",
              "      gap: 12px;\n",
              "    }\n",
              "\n",
              "    .colab-df-convert {\n",
              "      background-color: #E8F0FE;\n",
              "      border: none;\n",
              "      border-radius: 50%;\n",
              "      cursor: pointer;\n",
              "      display: none;\n",
              "      fill: #1967D2;\n",
              "      height: 32px;\n",
              "      padding: 0 0 0 0;\n",
              "      width: 32px;\n",
              "    }\n",
              "\n",
              "    .colab-df-convert:hover {\n",
              "      background-color: #E2EBFA;\n",
              "      box-shadow: 0px 1px 2px rgba(60, 64, 67, 0.3), 0px 1px 3px 1px rgba(60, 64, 67, 0.15);\n",
              "      fill: #174EA6;\n",
              "    }\n",
              "\n",
              "    [theme=dark] .colab-df-convert {\n",
              "      background-color: #3B4455;\n",
              "      fill: #D2E3FC;\n",
              "    }\n",
              "\n",
              "    [theme=dark] .colab-df-convert:hover {\n",
              "      background-color: #434B5C;\n",
              "      box-shadow: 0px 1px 3px 1px rgba(0, 0, 0, 0.15);\n",
              "      filter: drop-shadow(0px 1px 2px rgba(0, 0, 0, 0.3));\n",
              "      fill: #FFFFFF;\n",
              "    }\n",
              "  </style>\n",
              "\n",
              "      <script>\n",
              "        const buttonEl =\n",
              "          document.querySelector('#df-bc37adfc-1c35-4377-af61-7bbd7d53d240 button.colab-df-convert');\n",
              "        buttonEl.style.display =\n",
              "          google.colab.kernel.accessAllowed ? 'block' : 'none';\n",
              "\n",
              "        async function convertToInteractive(key) {\n",
              "          const element = document.querySelector('#df-bc37adfc-1c35-4377-af61-7bbd7d53d240');\n",
              "          const dataTable =\n",
              "            await google.colab.kernel.invokeFunction('convertToInteractive',\n",
              "                                                     [key], {});\n",
              "          if (!dataTable) return;\n",
              "\n",
              "          const docLinkHtml = 'Like what you see? Visit the ' +\n",
              "            '<a target=\"_blank\" href=https://colab.research.google.com/notebooks/data_table.ipynb>data table notebook</a>'\n",
              "            + ' to learn more about interactive tables.';\n",
              "          element.innerHTML = '';\n",
              "          dataTable['output_type'] = 'display_data';\n",
              "          await google.colab.output.renderOutput(dataTable, element);\n",
              "          const docLink = document.createElement('div');\n",
              "          docLink.innerHTML = docLinkHtml;\n",
              "          element.appendChild(docLink);\n",
              "        }\n",
              "      </script>\n",
              "    </div>\n",
              "  </div>\n",
              "  "
            ]
          },
          "metadata": {},
          "execution_count": 4
        }
      ]
    },
    {
      "cell_type": "code",
      "source": [
        "train_set = dataset_train.iloc[:,1:2].values"
      ],
      "metadata": {
        "id": "X43IYu-clQ1F"
      },
      "execution_count": 5,
      "outputs": []
    },
    {
      "cell_type": "code",
      "source": [
        "type(train_set)"
      ],
      "metadata": {
        "colab": {
          "base_uri": "https://localhost:8080/"
        },
        "id": "3CSap5FClSHv",
        "outputId": "40226293-d72f-4673-83db-7289316accfd"
      },
      "execution_count": 6,
      "outputs": [
        {
          "output_type": "execute_result",
          "data": {
            "text/plain": [
              "numpy.ndarray"
            ]
          },
          "metadata": {},
          "execution_count": 6
        }
      ]
    },
    {
      "cell_type": "code",
      "source": [
        "train_set.shape"
      ],
      "metadata": {
        "colab": {
          "base_uri": "https://localhost:8080/"
        },
        "id": "9jC8swW_lTaT",
        "outputId": "16f8a050-1f68-4df4-8cf4-b7972251d488"
      },
      "execution_count": 7,
      "outputs": [
        {
          "output_type": "execute_result",
          "data": {
            "text/plain": [
              "(1259, 1)"
            ]
          },
          "metadata": {},
          "execution_count": 7
        }
      ]
    },
    {
      "cell_type": "code",
      "source": [
        "sc = MinMaxScaler(feature_range=(0,1))\n",
        "training_set_scaled = sc.fit_transform(train_set)\n",
        "training_set_scaled.shape"
      ],
      "metadata": {
        "colab": {
          "base_uri": "https://localhost:8080/"
        },
        "id": "_mvccQSylU07",
        "outputId": "be4f57c6-2e8c-44c1-e6a6-9111b25a1a2e"
      },
      "execution_count": 8,
      "outputs": [
        {
          "output_type": "execute_result",
          "data": {
            "text/plain": [
              "(1259, 1)"
            ]
          },
          "metadata": {},
          "execution_count": 8
        }
      ]
    },
    {
      "cell_type": "code",
      "source": [
        "X_train_array = []\n",
        "y_train_array = []\n",
        "for i in range(60, 1259):\n",
        "    X_train_array.append(training_set_scaled[i-60:i,0])\n",
        "    y_train_array.append(training_set_scaled[i,0])\n",
        "\n",
        "X_train, y_train = np.array(X_train_array), np.array(y_train_array)\n",
        "X_train1 = X_train.reshape((X_train.shape[0], X_train.shape[1],1))"
      ],
      "metadata": {
        "id": "iALosMNilZSd"
      },
      "execution_count": 9,
      "outputs": []
    },
    {
      "cell_type": "code",
      "source": [
        "X_train.shape"
      ],
      "metadata": {
        "colab": {
          "base_uri": "https://localhost:8080/"
        },
        "id": "W1-38mlslbhj",
        "outputId": "d98e5d6c-895e-40f9-d688-4bd781c6020d"
      },
      "execution_count": 10,
      "outputs": [
        {
          "output_type": "execute_result",
          "data": {
            "text/plain": [
              "(1199, 60)"
            ]
          },
          "metadata": {},
          "execution_count": 10
        }
      ]
    },
    {
      "cell_type": "code",
      "source": [
        "length = 60\n",
        "n_features = 1"
      ],
      "metadata": {
        "id": "9gk4gFAeldPD"
      },
      "execution_count": 11,
      "outputs": []
    },
    {
      "cell_type": "code",
      "source": [
        "model = models.Sequential()\n",
        "model.add(layers.SimpleRNN(10,input_shape=(length,n_features)))\n",
        "model.add(layers.Dense(1))\n",
        "model.compile(optimizer='rmsprop', loss='mse',metrics ='accuracy')"
      ],
      "metadata": {
        "id": "g05v6PtTle_6"
      },
      "execution_count": 12,
      "outputs": []
    },
    {
      "cell_type": "code",
      "source": [
        "model.summary()"
      ],
      "metadata": {
        "colab": {
          "base_uri": "https://localhost:8080/"
        },
        "id": "n2SzPDupliWA",
        "outputId": "a23242a1-1b33-49e1-b40d-0226a3ec72be"
      },
      "execution_count": 13,
      "outputs": [
        {
          "output_type": "stream",
          "name": "stdout",
          "text": [
            "Model: \"sequential\"\n",
            "_________________________________________________________________\n",
            " Layer (type)                Output Shape              Param #   \n",
            "=================================================================\n",
            " simple_rnn (SimpleRNN)      (None, 10)                120       \n",
            "                                                                 \n",
            " dense (Dense)               (None, 1)                 11        \n",
            "                                                                 \n",
            "=================================================================\n",
            "Total params: 131\n",
            "Trainable params: 131\n",
            "Non-trainable params: 0\n",
            "_________________________________________________________________\n"
          ]
        }
      ]
    },
    {
      "cell_type": "code",
      "source": [
        "model.fit(X_train1,y_train,epochs=100, batch_size=64)"
      ],
      "metadata": {
        "colab": {
          "base_uri": "https://localhost:8080/"
        },
        "id": "kedubRs-lj7T",
        "outputId": "8e2db3b5-b785-47c4-dfaa-8c11314c4832"
      },
      "execution_count": 14,
      "outputs": [
        {
          "output_type": "stream",
          "name": "stdout",
          "text": [
            "Epoch 1/100\n",
            "19/19 [==============================] - 1s 11ms/step - loss: 0.1904 - accuracy: 0.0000e+00\n",
            "Epoch 2/100\n",
            "19/19 [==============================] - 0s 10ms/step - loss: 0.0333 - accuracy: 8.3403e-04\n",
            "Epoch 3/100\n",
            "19/19 [==============================] - 0s 10ms/step - loss: 0.0073 - accuracy: 8.3403e-04\n",
            "Epoch 4/100\n",
            "19/19 [==============================] - 0s 10ms/step - loss: 0.0026 - accuracy: 8.3403e-04\n",
            "Epoch 5/100\n",
            "19/19 [==============================] - 0s 10ms/step - loss: 0.0012 - accuracy: 8.3403e-04\n",
            "Epoch 6/100\n",
            "19/19 [==============================] - 0s 10ms/step - loss: 7.2659e-04 - accuracy: 8.3403e-04\n",
            "Epoch 7/100\n",
            "19/19 [==============================] - 0s 11ms/step - loss: 6.0703e-04 - accuracy: 8.3403e-04\n",
            "Epoch 8/100\n",
            "19/19 [==============================] - 0s 11ms/step - loss: 5.0867e-04 - accuracy: 8.3403e-04\n",
            "Epoch 9/100\n",
            "19/19 [==============================] - 0s 10ms/step - loss: 4.7009e-04 - accuracy: 8.3403e-04\n",
            "Epoch 10/100\n",
            "19/19 [==============================] - 0s 10ms/step - loss: 4.3615e-04 - accuracy: 8.3403e-04\n",
            "Epoch 11/100\n",
            "19/19 [==============================] - 0s 10ms/step - loss: 4.0386e-04 - accuracy: 8.3403e-04\n",
            "Epoch 12/100\n",
            "19/19 [==============================] - 0s 11ms/step - loss: 4.1512e-04 - accuracy: 8.3403e-04\n",
            "Epoch 13/100\n",
            "19/19 [==============================] - 0s 11ms/step - loss: 4.0961e-04 - accuracy: 8.3403e-04\n",
            "Epoch 14/100\n",
            "19/19 [==============================] - 0s 10ms/step - loss: 3.8662e-04 - accuracy: 8.3403e-04\n",
            "Epoch 15/100\n",
            "19/19 [==============================] - 0s 11ms/step - loss: 3.7370e-04 - accuracy: 8.3403e-04\n",
            "Epoch 16/100\n",
            "19/19 [==============================] - 0s 11ms/step - loss: 3.9192e-04 - accuracy: 8.3403e-04\n",
            "Epoch 17/100\n",
            "19/19 [==============================] - 0s 10ms/step - loss: 3.6778e-04 - accuracy: 8.3403e-04\n",
            "Epoch 18/100\n",
            "19/19 [==============================] - 0s 11ms/step - loss: 3.3330e-04 - accuracy: 8.3403e-04\n",
            "Epoch 19/100\n",
            "19/19 [==============================] - 0s 10ms/step - loss: 3.5596e-04 - accuracy: 8.3403e-04\n",
            "Epoch 20/100\n",
            "19/19 [==============================] - 0s 10ms/step - loss: 3.3743e-04 - accuracy: 8.3403e-04\n",
            "Epoch 21/100\n",
            "19/19 [==============================] - 0s 11ms/step - loss: 3.3355e-04 - accuracy: 8.3403e-04\n",
            "Epoch 22/100\n",
            "19/19 [==============================] - 0s 10ms/step - loss: 3.3975e-04 - accuracy: 8.3403e-04\n",
            "Epoch 23/100\n",
            "19/19 [==============================] - 0s 11ms/step - loss: 3.1664e-04 - accuracy: 8.3403e-04\n",
            "Epoch 24/100\n",
            "19/19 [==============================] - 0s 10ms/step - loss: 3.3524e-04 - accuracy: 8.3403e-04\n",
            "Epoch 25/100\n",
            "19/19 [==============================] - 0s 10ms/step - loss: 2.9124e-04 - accuracy: 8.3403e-04\n",
            "Epoch 26/100\n",
            "19/19 [==============================] - 0s 11ms/step - loss: 3.0419e-04 - accuracy: 8.3403e-04\n",
            "Epoch 27/100\n",
            "19/19 [==============================] - 0s 10ms/step - loss: 3.1845e-04 - accuracy: 8.3403e-04\n",
            "Epoch 28/100\n",
            "19/19 [==============================] - 0s 11ms/step - loss: 3.1215e-04 - accuracy: 8.3403e-04\n",
            "Epoch 29/100\n",
            "19/19 [==============================] - 0s 10ms/step - loss: 2.9287e-04 - accuracy: 8.3403e-04\n",
            "Epoch 30/100\n",
            "19/19 [==============================] - 0s 10ms/step - loss: 2.9109e-04 - accuracy: 8.3403e-04\n",
            "Epoch 31/100\n",
            "19/19 [==============================] - 0s 10ms/step - loss: 3.1169e-04 - accuracy: 8.3403e-04\n",
            "Epoch 32/100\n",
            "19/19 [==============================] - 0s 10ms/step - loss: 3.1759e-04 - accuracy: 8.3403e-04\n",
            "Epoch 33/100\n",
            "19/19 [==============================] - 0s 11ms/step - loss: 3.0867e-04 - accuracy: 8.3403e-04\n",
            "Epoch 34/100\n",
            "19/19 [==============================] - 0s 10ms/step - loss: 2.9320e-04 - accuracy: 8.3403e-04\n",
            "Epoch 35/100\n",
            "19/19 [==============================] - 0s 10ms/step - loss: 2.7519e-04 - accuracy: 8.3403e-04\n",
            "Epoch 36/100\n",
            "19/19 [==============================] - 0s 10ms/step - loss: 2.6747e-04 - accuracy: 8.3403e-04\n",
            "Epoch 37/100\n",
            "19/19 [==============================] - 0s 11ms/step - loss: 2.7478e-04 - accuracy: 8.3403e-04\n",
            "Epoch 38/100\n",
            "19/19 [==============================] - 0s 11ms/step - loss: 3.0725e-04 - accuracy: 8.3403e-04\n",
            "Epoch 39/100\n",
            "19/19 [==============================] - 0s 11ms/step - loss: 2.7791e-04 - accuracy: 8.3403e-04\n",
            "Epoch 40/100\n",
            "19/19 [==============================] - 0s 11ms/step - loss: 2.7700e-04 - accuracy: 8.3403e-04\n",
            "Epoch 41/100\n",
            "19/19 [==============================] - 0s 10ms/step - loss: 2.6329e-04 - accuracy: 8.3403e-04\n",
            "Epoch 42/100\n",
            "19/19 [==============================] - 0s 14ms/step - loss: 2.6316e-04 - accuracy: 8.3403e-04\n",
            "Epoch 43/100\n",
            "19/19 [==============================] - 0s 18ms/step - loss: 2.8080e-04 - accuracy: 8.3403e-04\n",
            "Epoch 44/100\n",
            "19/19 [==============================] - 0s 17ms/step - loss: 2.7539e-04 - accuracy: 8.3403e-04\n",
            "Epoch 45/100\n",
            "19/19 [==============================] - 0s 17ms/step - loss: 2.5138e-04 - accuracy: 8.3403e-04\n",
            "Epoch 46/100\n",
            "19/19 [==============================] - 0s 18ms/step - loss: 2.7662e-04 - accuracy: 8.3403e-04\n",
            "Epoch 47/100\n",
            "19/19 [==============================] - 0s 17ms/step - loss: 2.5826e-04 - accuracy: 8.3403e-04\n",
            "Epoch 48/100\n",
            "19/19 [==============================] - 0s 16ms/step - loss: 2.6787e-04 - accuracy: 8.3403e-04\n",
            "Epoch 49/100\n",
            "19/19 [==============================] - 0s 19ms/step - loss: 2.5475e-04 - accuracy: 8.3403e-04\n",
            "Epoch 50/100\n",
            "19/19 [==============================] - 0s 18ms/step - loss: 2.7132e-04 - accuracy: 8.3403e-04\n",
            "Epoch 51/100\n",
            "19/19 [==============================] - 0s 15ms/step - loss: 2.6728e-04 - accuracy: 8.3403e-04\n",
            "Epoch 52/100\n",
            "19/19 [==============================] - 0s 11ms/step - loss: 2.5151e-04 - accuracy: 8.3403e-04\n",
            "Epoch 53/100\n",
            "19/19 [==============================] - 0s 10ms/step - loss: 2.6529e-04 - accuracy: 8.3403e-04\n",
            "Epoch 54/100\n",
            "19/19 [==============================] - 0s 11ms/step - loss: 2.5988e-04 - accuracy: 8.3403e-04\n",
            "Epoch 55/100\n",
            "19/19 [==============================] - 0s 10ms/step - loss: 2.4636e-04 - accuracy: 8.3403e-04\n",
            "Epoch 56/100\n",
            "19/19 [==============================] - 0s 10ms/step - loss: 2.3690e-04 - accuracy: 8.3403e-04\n",
            "Epoch 57/100\n",
            "19/19 [==============================] - 0s 11ms/step - loss: 2.6484e-04 - accuracy: 8.3403e-04\n",
            "Epoch 58/100\n",
            "19/19 [==============================] - 0s 11ms/step - loss: 2.5000e-04 - accuracy: 8.3403e-04\n",
            "Epoch 59/100\n",
            "19/19 [==============================] - 0s 10ms/step - loss: 2.7252e-04 - accuracy: 8.3403e-04\n",
            "Epoch 60/100\n",
            "19/19 [==============================] - 0s 10ms/step - loss: 2.3636e-04 - accuracy: 8.3403e-04\n",
            "Epoch 61/100\n",
            "19/19 [==============================] - 0s 9ms/step - loss: 2.4647e-04 - accuracy: 8.3403e-04\n",
            "Epoch 62/100\n",
            "19/19 [==============================] - 0s 11ms/step - loss: 2.6463e-04 - accuracy: 8.3403e-04\n",
            "Epoch 63/100\n",
            "19/19 [==============================] - 0s 10ms/step - loss: 2.3411e-04 - accuracy: 8.3403e-04\n",
            "Epoch 64/100\n",
            "19/19 [==============================] - 0s 10ms/step - loss: 2.4436e-04 - accuracy: 8.3403e-04\n",
            "Epoch 65/100\n",
            "19/19 [==============================] - 0s 11ms/step - loss: 2.4157e-04 - accuracy: 8.3403e-04\n",
            "Epoch 66/100\n",
            "19/19 [==============================] - 0s 10ms/step - loss: 2.3587e-04 - accuracy: 8.3403e-04\n",
            "Epoch 67/100\n",
            "19/19 [==============================] - 0s 11ms/step - loss: 2.5625e-04 - accuracy: 8.3403e-04\n",
            "Epoch 68/100\n",
            "19/19 [==============================] - 0s 11ms/step - loss: 2.4242e-04 - accuracy: 8.3403e-04\n",
            "Epoch 69/100\n",
            "19/19 [==============================] - 0s 10ms/step - loss: 2.2796e-04 - accuracy: 8.3403e-04\n",
            "Epoch 70/100\n",
            "19/19 [==============================] - 0s 10ms/step - loss: 2.4338e-04 - accuracy: 8.3403e-04\n",
            "Epoch 71/100\n",
            "19/19 [==============================] - 0s 10ms/step - loss: 2.2907e-04 - accuracy: 8.3403e-04\n",
            "Epoch 72/100\n",
            "19/19 [==============================] - 0s 11ms/step - loss: 2.4510e-04 - accuracy: 8.3403e-04\n",
            "Epoch 73/100\n",
            "19/19 [==============================] - 0s 10ms/step - loss: 2.3181e-04 - accuracy: 8.3403e-04\n",
            "Epoch 74/100\n",
            "19/19 [==============================] - 0s 11ms/step - loss: 2.2426e-04 - accuracy: 8.3403e-04\n",
            "Epoch 75/100\n",
            "19/19 [==============================] - 0s 10ms/step - loss: 2.4149e-04 - accuracy: 8.3403e-04\n",
            "Epoch 76/100\n",
            "19/19 [==============================] - 0s 10ms/step - loss: 2.3758e-04 - accuracy: 8.3403e-04\n",
            "Epoch 77/100\n",
            "19/19 [==============================] - 0s 11ms/step - loss: 2.2561e-04 - accuracy: 8.3403e-04\n",
            "Epoch 78/100\n",
            "19/19 [==============================] - 0s 11ms/step - loss: 2.2498e-04 - accuracy: 8.3403e-04\n",
            "Epoch 79/100\n",
            "19/19 [==============================] - 0s 10ms/step - loss: 2.3055e-04 - accuracy: 8.3403e-04\n",
            "Epoch 80/100\n",
            "19/19 [==============================] - 0s 11ms/step - loss: 2.3208e-04 - accuracy: 8.3403e-04\n",
            "Epoch 81/100\n",
            "19/19 [==============================] - 0s 10ms/step - loss: 2.2187e-04 - accuracy: 8.3403e-04\n",
            "Epoch 82/100\n",
            "19/19 [==============================] - 0s 11ms/step - loss: 2.4967e-04 - accuracy: 8.3403e-04\n",
            "Epoch 83/100\n",
            "19/19 [==============================] - 0s 10ms/step - loss: 2.3261e-04 - accuracy: 8.3403e-04\n",
            "Epoch 84/100\n",
            "19/19 [==============================] - 0s 10ms/step - loss: 2.3290e-04 - accuracy: 8.3403e-04\n",
            "Epoch 85/100\n",
            "19/19 [==============================] - 0s 10ms/step - loss: 2.0766e-04 - accuracy: 8.3403e-04\n",
            "Epoch 86/100\n",
            "19/19 [==============================] - 0s 10ms/step - loss: 2.3555e-04 - accuracy: 8.3403e-04\n",
            "Epoch 87/100\n",
            "19/19 [==============================] - 0s 11ms/step - loss: 2.2961e-04 - accuracy: 8.3403e-04\n",
            "Epoch 88/100\n",
            "19/19 [==============================] - 0s 10ms/step - loss: 2.1617e-04 - accuracy: 8.3403e-04\n",
            "Epoch 89/100\n",
            "19/19 [==============================] - 0s 10ms/step - loss: 2.2981e-04 - accuracy: 8.3403e-04\n",
            "Epoch 90/100\n",
            "19/19 [==============================] - 0s 11ms/step - loss: 2.1142e-04 - accuracy: 8.3403e-04\n",
            "Epoch 91/100\n",
            "19/19 [==============================] - 0s 10ms/step - loss: 2.2588e-04 - accuracy: 8.3403e-04\n",
            "Epoch 92/100\n",
            "19/19 [==============================] - 0s 12ms/step - loss: 2.1641e-04 - accuracy: 8.3403e-04\n",
            "Epoch 93/100\n",
            "19/19 [==============================] - 0s 10ms/step - loss: 2.1739e-04 - accuracy: 8.3403e-04\n",
            "Epoch 94/100\n",
            "19/19 [==============================] - 0s 11ms/step - loss: 2.2087e-04 - accuracy: 8.3403e-04\n",
            "Epoch 95/100\n",
            "19/19 [==============================] - 0s 11ms/step - loss: 2.2935e-04 - accuracy: 8.3403e-04\n",
            "Epoch 96/100\n",
            "19/19 [==============================] - 0s 10ms/step - loss: 2.1356e-04 - accuracy: 8.3403e-04\n",
            "Epoch 97/100\n",
            "19/19 [==============================] - 0s 11ms/step - loss: 2.1707e-04 - accuracy: 8.3403e-04\n",
            "Epoch 98/100\n",
            "19/19 [==============================] - 0s 11ms/step - loss: 2.1642e-04 - accuracy: 8.3403e-04\n",
            "Epoch 99/100\n",
            "19/19 [==============================] - 0s 10ms/step - loss: 2.2826e-04 - accuracy: 8.3403e-04\n",
            "Epoch 100/100\n",
            "19/19 [==============================] - 0s 17ms/step - loss: 2.2902e-04 - accuracy: 8.3403e-04\n"
          ]
        },
        {
          "output_type": "execute_result",
          "data": {
            "text/plain": [
              "<keras.callbacks.History at 0x7f15a511bb80>"
            ]
          },
          "metadata": {},
          "execution_count": 14
        }
      ]
    },
    {
      "cell_type": "code",
      "source": [
        "dataset_test = pd.read_csv('testset.csv')\n",
        "test_set = dataset_test.iloc[:,1:2].values\n",
        "test_set.shape"
      ],
      "metadata": {
        "colab": {
          "base_uri": "https://localhost:8080/"
        },
        "id": "XsyGwKYEllqV",
        "outputId": "aa39aafd-e3eb-4913-f2f2-bf6372f322e6"
      },
      "execution_count": 15,
      "outputs": [
        {
          "output_type": "execute_result",
          "data": {
            "text/plain": [
              "(125, 1)"
            ]
          },
          "metadata": {},
          "execution_count": 15
        }
      ]
    },
    {
      "cell_type": "code",
      "source": [
        "dataset_total = pd.concat((dataset_train['Open'],dataset_test['Open']),axis=0)"
      ],
      "metadata": {
        "id": "4DusG8wfl7qo"
      },
      "execution_count": 16,
      "outputs": []
    },
    {
      "cell_type": "code",
      "source": [
        "inputs = dataset_total.values\n",
        "inputs = inputs.reshape(-1,1)\n",
        "inputs_scaled=sc.transform(inputs)"
      ],
      "metadata": {
        "id": "th4m9h3T6DCa"
      },
      "execution_count": 17,
      "outputs": []
    },
    {
      "cell_type": "code",
      "source": [
        "X_test = []\n",
        "for i in range(60,1384):\n",
        "  X_test.append(inputs_scaled[i-60:i,0])\n",
        "X_test = np.array(X_test)\n",
        "X_test = np.reshape(X_test,(X_test.shape[0], X_test.shape[1],1))"
      ],
      "metadata": {
        "id": "25J9yNGR6FAg"
      },
      "execution_count": 19,
      "outputs": []
    },
    {
      "cell_type": "code",
      "source": [
        "X_test.shape"
      ],
      "metadata": {
        "colab": {
          "base_uri": "https://localhost:8080/"
        },
        "id": "d25IaB5X6HBI",
        "outputId": "b49de285-7ba1-4729-a8f0-4f8b237fd33f"
      },
      "execution_count": 20,
      "outputs": [
        {
          "output_type": "execute_result",
          "data": {
            "text/plain": [
              "(1324, 60, 1)"
            ]
          },
          "metadata": {},
          "execution_count": 20
        }
      ]
    },
    {
      "cell_type": "code",
      "source": [
        "predicted_stock_price_scaled = model.predict(X_test)\n",
        "predicted_stock_price = sc.inverse_transform(predicted_stock_price_scaled)"
      ],
      "metadata": {
        "colab": {
          "base_uri": "https://localhost:8080/"
        },
        "id": "TRTn-atE6cDg",
        "outputId": "821692bb-9d95-4142-91b7-14d75a941b35"
      },
      "execution_count": 21,
      "outputs": [
        {
          "output_type": "stream",
          "name": "stdout",
          "text": [
            "42/42 [==============================] - 1s 6ms/step\n"
          ]
        }
      ]
    },
    {
      "cell_type": "code",
      "source": [
        "plt.plot(np.arange(0,1384),inputs, color='red', label = 'Test(Real) Google stock price')\n",
        "plt.plot(np.arange(60,1384),predicted_stock_price, color='blue', label = 'Predicted Google stock price')\n",
        "plt.title('Google Stock Price Prediction')\n",
        "plt.xlabel('Time')\n",
        "plt.ylabel('Google Stock Price')\n",
        "plt.legend()\n",
        "plt.show()"
      ],
      "metadata": {
        "colab": {
          "base_uri": "https://localhost:8080/",
          "height": 472
        },
        "id": "zxliSpCc6eDc",
        "outputId": "f62d326a-2955-4b57-eaa9-5bcf3ed5ab14"
      },
      "execution_count": 22,
      "outputs": [
        {
          "output_type": "display_data",
          "data": {
            "text/plain": [
              "<Figure size 640x480 with 1 Axes>"
            ],
            "image/png": "[encoded data removed]"
          },
          "metadata": {}
        }
      ]
    },
    {
      "cell_type": "code",
      "source": [],
      "metadata": {
        "id": "CSOMPxHq6gX7"
      },
      "execution_count": null,
      "outputs": []
    }
  ]
}